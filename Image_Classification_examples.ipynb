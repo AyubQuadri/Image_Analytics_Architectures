{
  "nbformat": 4,
  "nbformat_minor": 0,
  "metadata": {
    "colab": {
      "name": "Image_Classification_examples.ipynb",
      "provenance": [],
      "authorship_tag": "ABX9TyNBAIRN6OcbgKo/K8fvBBRx",
      "include_colab_link": true
    },
    "kernelspec": {
      "name": "python3",
      "display_name": "Python 3"
    }
  },
  "cells": [
    {
      "cell_type": "markdown",
      "metadata": {
        "id": "view-in-github",
        "colab_type": "text"
      },
      "source": [
        "<a href=\"https://colab.research.google.com/github/AyubQuadri/Image_Analytics_Architectures/blob/develop/Image_Classification_examples.ipynb\" target=\"_parent\"><img src=\"https://colab.research.google.com/assets/colab-badge.svg\" alt=\"Open In Colab\"/></a>"
      ]
    },
    {
      "cell_type": "markdown",
      "metadata": {
        "id": "GpFM22VhhEOB"
      },
      "source": [
        "# This Note book walks through different Image classification models\r\n",
        "1. VGG-16 \r\n",
        "2. VGG-19\r\n",
        "3. ResNet50\r\n",
        "4. ResNet101\r\n",
        "5. InceptionV3\r\n",
        "6. MobileNet\r\n",
        "7. MobileNetV2\r\n",
        "8. DenseNet121\r\n",
        "9. NASNetMobile\r\n",
        "10.NASNetLarge\r\n",
        "11. EfficentNetB0\r\n",
        "12. EfficentNetB7"
      ]
    },
    {
      "cell_type": "markdown",
      "metadata": {
        "id": "0xu4NfDyhHyk"
      },
      "source": [
        "\r\n",
        "Import all the neccessary python packages\r\n",
        "\r\n"
      ]
    },
    {
      "cell_type": "code",
      "metadata": {
        "id": "y1XSuq74gS7S"
      },
      "source": [
        "import os, json\r\n",
        "import tensorflow as tf\r\n",
        "\r\n",
        "# Activations\r\n",
        "from tensorflow.keras.activations import sigmoid, softmax, relu\r\n",
        "# optimizers\r\n",
        "from tensorflow.keras.optimizers import Adam, SGD, Adagrad\r\n",
        "# Kerans Layers\r\n",
        "from tensorflow.keras.layers import Dense, Flatten, Dropout, GlobalAveragePooling2D\r\n",
        "\r\n",
        "# Architectures\r\n",
        "from tensorflow.keras.models import Model \r\n",
        "from tensorflow.keras.applications.vgg16 import VGG16\r\n",
        "from tensorflow.keras.applications.vgg19 import VGG19\r\n",
        "from tensorflow.keras.applications.resnet50 import ResNet50\r\n",
        "import efficientnet.tfkeras as efn\r\n"
      ],
      "execution_count": null,
      "outputs": []
    },
    {
      "cell_type": "code",
      "metadata": {
        "colab": {
          "base_uri": "https://localhost:8080/"
        },
        "id": "YqZD-EezqnjR",
        "outputId": "3b3ccd4a-c9ef-4cba-d3ec-52f669f687e4"
      },
      "source": [
        "!pip install -U efficientnet"
      ],
      "execution_count": null,
      "outputs": [
        {
          "output_type": "stream",
          "text": [
            "Collecting efficientnet\n",
            "  Downloading https://files.pythonhosted.org/packages/53/97/84f88e581d6ac86dcf1ab347c497c4c568c38784e3a2bd659b96912ab793/efficientnet-1.1.1-py3-none-any.whl\n",
            "Requirement already satisfied, skipping upgrade: scikit-image in /usr/local/lib/python3.6/dist-packages (from efficientnet) (0.16.2)\n",
            "Collecting keras-applications<=1.0.8,>=1.0.7\n",
            "\u001b[?25l  Downloading https://files.pythonhosted.org/packages/71/e3/19762fdfc62877ae9102edf6342d71b28fbfd9dea3d2f96a882ce099b03f/Keras_Applications-1.0.8-py3-none-any.whl (50kB)\n",
            "\r\u001b[K     |██████▌                         | 10kB 19.1MB/s eta 0:00:01\r\u001b[K     |█████████████                   | 20kB 11.5MB/s eta 0:00:01\r\u001b[K     |███████████████████▍            | 30kB 12.4MB/s eta 0:00:01\r\u001b[K     |█████████████████████████▉      | 40kB 10.6MB/s eta 0:00:01\r\u001b[K     |████████████████████████████████| 51kB 4.5MB/s \n",
            "\u001b[?25hRequirement already satisfied, skipping upgrade: networkx>=2.0 in /usr/local/lib/python3.6/dist-packages (from scikit-image->efficientnet) (2.5)\n",
            "Requirement already satisfied, skipping upgrade: pillow>=4.3.0 in /usr/local/lib/python3.6/dist-packages (from scikit-image->efficientnet) (7.0.0)\n",
            "Requirement already satisfied, skipping upgrade: matplotlib!=3.0.0,>=2.0.0 in /usr/local/lib/python3.6/dist-packages (from scikit-image->efficientnet) (3.2.2)\n",
            "Requirement already satisfied, skipping upgrade: PyWavelets>=0.4.0 in /usr/local/lib/python3.6/dist-packages (from scikit-image->efficientnet) (1.1.1)\n",
            "Requirement already satisfied, skipping upgrade: scipy>=0.19.0 in /usr/local/lib/python3.6/dist-packages (from scikit-image->efficientnet) (1.4.1)\n",
            "Requirement already satisfied, skipping upgrade: imageio>=2.3.0 in /usr/local/lib/python3.6/dist-packages (from scikit-image->efficientnet) (2.4.1)\n",
            "Requirement already satisfied, skipping upgrade: numpy>=1.9.1 in /usr/local/lib/python3.6/dist-packages (from keras-applications<=1.0.8,>=1.0.7->efficientnet) (1.19.4)\n",
            "Requirement already satisfied, skipping upgrade: h5py in /usr/local/lib/python3.6/dist-packages (from keras-applications<=1.0.8,>=1.0.7->efficientnet) (2.10.0)\n",
            "Requirement already satisfied, skipping upgrade: decorator>=4.3.0 in /usr/local/lib/python3.6/dist-packages (from networkx>=2.0->scikit-image->efficientnet) (4.4.2)\n",
            "Requirement already satisfied, skipping upgrade: kiwisolver>=1.0.1 in /usr/local/lib/python3.6/dist-packages (from matplotlib!=3.0.0,>=2.0.0->scikit-image->efficientnet) (1.3.1)\n",
            "Requirement already satisfied, skipping upgrade: pyparsing!=2.0.4,!=2.1.2,!=2.1.6,>=2.0.1 in /usr/local/lib/python3.6/dist-packages (from matplotlib!=3.0.0,>=2.0.0->scikit-image->efficientnet) (2.4.7)\n",
            "Requirement already satisfied, skipping upgrade: cycler>=0.10 in /usr/local/lib/python3.6/dist-packages (from matplotlib!=3.0.0,>=2.0.0->scikit-image->efficientnet) (0.10.0)\n",
            "Requirement already satisfied, skipping upgrade: python-dateutil>=2.1 in /usr/local/lib/python3.6/dist-packages (from matplotlib!=3.0.0,>=2.0.0->scikit-image->efficientnet) (2.8.1)\n",
            "Requirement already satisfied, skipping upgrade: six in /usr/local/lib/python3.6/dist-packages (from h5py->keras-applications<=1.0.8,>=1.0.7->efficientnet) (1.15.0)\n",
            "Installing collected packages: keras-applications, efficientnet\n",
            "Successfully installed efficientnet-1.1.1 keras-applications-1.0.8\n"
          ],
          "name": "stdout"
        }
      ]
    },
    {
      "cell_type": "code",
      "metadata": {
        "id": "pJjvDRzeir-i"
      },
      "source": [
        "PARAMS = {'img_width': 224,\r\n",
        "          'img_height': 224,\r\n",
        "          'num_channels':3,\r\n",
        "          'optimizer': 'sgd',\r\n",
        "          'lr': 0.005,\r\n",
        "          'freeze_layers': 14}"
      ],
      "execution_count": null,
      "outputs": []
    },
    {
      "cell_type": "code",
      "metadata": {
        "id": "-DV89cjpjAcV"
      },
      "source": [
        "def create_vgg_16(PARAMS):\r\n",
        "  ''' \r\n",
        "  Input: Parameters required []\r\n",
        "  output: Creates VGG 16 Model and return the architecture\r\n",
        "\r\n",
        "  '''\r\n",
        "  base_model = VGG16( include_top=False, weights='imagenet', input_shape=(PARAMS['img_height'], PARAMS['img_width'], PARAMS['num_channels']))\r\n",
        "  x = base_model.output\r\n",
        "\r\n",
        "  x = Flatten()(x) #GlobalMaxPooling2d()(x)\r\n",
        "  x = Dense(2048, activation='relu')(x)\r\n",
        "  x = Dropout(0.5)(x)\r\n",
        "  x = Dense(1024, activation= 'relu')(x)\r\n",
        "  x = Dropout(0.2)(x)\r\n",
        "  pred = Dense(1, activation = 'sigmoid')(x)\r\n",
        "  model = Model(inputs=base_model.input, outputs= pred)\r\n",
        "\r\n",
        "  if PARAMS['optimizer']=='sgd':\r\n",
        "    opt = SGD(learning_rate= PARAMS['lr'], momentum= 0.9, nesterov=True)\r\n",
        "  elif PARAMS['optimizer'] =='adam':\r\n",
        "    opt = Adam(learning_rate = PARAMS['lr'], beta_1=0.9, beta_2=0.999, epsilon=1e-07, amsgrad=False)\r\n",
        "  else:\r\n",
        "    raise AssertionError(\"Incorrect Optimizer give in config file\")\r\n",
        "  \r\n",
        "  for layer in model.layers[:PARAMS['freeze_layers']]:\r\n",
        "    layer.trainable = False\r\n",
        "\r\n",
        "  model.compile(loss = 'binary_crossentropy', optimizer = opt, metrics = ['accuracy'])\r\n",
        "\r\n",
        "  model.summary()\r\n",
        "  print(\"Traniable layers are as follows\")\r\n",
        "  for layers in model.layers:\r\n",
        "        print(layers    .name, \":\", layers.trainable)\r\n",
        "\r\n",
        "  return model\r\n"
      ],
      "execution_count": null,
      "outputs": []
    },
    {
      "cell_type": "code",
      "metadata": {
        "id": "9b4uZQQJpg7M"
      },
      "source": [
        "def create_vgg_19(PARAMS):\r\n",
        "  ''' \r\n",
        "  Input: Parameters required []\r\n",
        "  output: Creates VGG 16 Model and return the architecture\r\n",
        "\r\n",
        "  '''\r\n",
        "  base_model = VGG19( include_top=False, weights='imagenet', input_shape=(PARAMS['img_height'], PARAMS['img_width'], PARAMS['num_channels']))\r\n",
        "  x = base_model.output\r\n",
        "\r\n",
        "  x = Flatten()(x) #GlobalMaxPooling2d()(x)\r\n",
        "  x = Dense(2048, activation='relu')(x)\r\n",
        "  x = Dropout(0.5)(x)\r\n",
        "  x = Dense(1024, activation= 'relu')(x)\r\n",
        "  x = Dropout(0.2)(x)\r\n",
        "  pred = Dense(1, activation = 'sigmoid')(x)\r\n",
        "  model = Model(inputs=base_model.input, outputs= pred)\r\n",
        "\r\n",
        "  if PARAMS['optimizer']=='sgd':\r\n",
        "    opt = SGD(learning_rate= PARAMS['lr'], momentum= 0.9, nesterov=True)\r\n",
        "  elif PARAMS['optimizer'] =='adam':\r\n",
        "    opt = Adam(learning_rate = PARAMS['lr'], beta_1=0.9, beta_2=0.999, epsilon=1e-07, amsgrad=False)\r\n",
        "  else:\r\n",
        "    raise AssertionError(\"Incorrect Optimizer give in config file\")\r\n",
        "  \r\n",
        "  for layer in model.layers[:PARAMS['freeze_layers']]:\r\n",
        "    layer.trainable = False\r\n",
        "\r\n",
        "  model.compile(loss = 'binary_crossentropy', optimizer = opt, metrics = ['accuracy'])\r\n",
        "\r\n",
        "  model.summary()\r\n",
        "  print(\"Traniable layers are as follows\")\r\n",
        "  for layers in model.layers:\r\n",
        "        print(layers    .name, \":\", layers.trainable)\r\n",
        "\r\n",
        "  return model"
      ],
      "execution_count": null,
      "outputs": []
    },
    {
      "cell_type": "code",
      "metadata": {
        "id": "Ebl460sjp7Jr"
      },
      "source": [
        "def efficient_netB0(PARAMS):\r\n",
        "  enb0 = efn.EfficientNetB0(input_shape=(PARAMS['img_width'], PARAMS['img_height'],PARAMS['num_channels']), weights='imagenet', include_top=False)\r\n",
        "  enb0.trainable = True\r\n",
        "\r\n",
        "  model = tf.keras.Sequential(enb0)\r\n",
        "  model.add(GlobalAveragePooling2D())\r\n",
        "  model.add(Dropout(0.25))\r\n",
        "  model.add(Dense(4096, activation='relu'))\r\n",
        "  model.add(Dropout(0.25))\r\n",
        "  model.add(Dense(2048, activation='relu'))\r\n",
        "  model.add(Dropout(0.25))\r\n",
        "  model.add(Dense(1, activation='sigmoid'))\r\n",
        "\r\n",
        "  # Optimizer\r\n",
        "  if PARAMS['optimizer']=='sgd':\r\n",
        "    opt = SGD(learning_rate= PARAMS['lr'], momentum= 0.9, nesterov=True)\r\n",
        "  elif PARAMS['optimizer'] =='adam':\r\n",
        "    opt = Adam(learning_rate = PARAMS['lr'], beta_1=0.9, beta_2=0.999, epsilon=1e-07, amsgrad=False)\r\n",
        "  else:\r\n",
        "    raise AssertionError(\"Incorrect Optimizer give in config file\")\r\n",
        "\r\n",
        "  # Model compile\r\n",
        "  model.compile(loss = 'binary_crossentropy', optimizer = opt, metrics = ['accuracy'])\r\n",
        "  model.summary()\r\n",
        "  print(\"Traniable layers are as follows\")\r\n",
        "  for layers in model.layers:\r\n",
        "        print(layers    .name, \":\", layers.trainable)\r\n",
        "\r\n",
        "  return model\r\n",
        "  \r\n",
        "  "
      ],
      "execution_count": null,
      "outputs": []
    },
    {
      "cell_type": "code",
      "metadata": {
        "colab": {
          "base_uri": "https://localhost:8080/"
        },
        "id": "l1Uk8Iz0ptoD",
        "outputId": "e27716c3-b7a0-4bba-b28d-472779846ab3"
      },
      "source": [
        "efficient_netB0(PARAMS)"
      ],
      "execution_count": null,
      "outputs": [
        {
          "output_type": "stream",
          "text": [
            "Model: \"sequential_4\"\n",
            "_________________________________________________________________\n",
            "Layer (type)                 Output Shape              Param #   \n",
            "=================================================================\n",
            "efficientnet-b0 (Functional) (None, 7, 7, 1280)        4049564   \n",
            "_________________________________________________________________\n",
            "global_average_pooling2d_3 ( (None, 1280)              0         \n",
            "_________________________________________________________________\n",
            "dropout_20 (Dropout)         (None, 1280)              0         \n",
            "_________________________________________________________________\n",
            "dense_24 (Dense)             (None, 4096)              5246976   \n",
            "_________________________________________________________________\n",
            "dropout_21 (Dropout)         (None, 4096)              0         \n",
            "_________________________________________________________________\n",
            "dense_25 (Dense)             (None, 2048)              8390656   \n",
            "_________________________________________________________________\n",
            "dropout_22 (Dropout)         (None, 2048)              0         \n",
            "_________________________________________________________________\n",
            "dense_26 (Dense)             (None, 1)                 2049      \n",
            "=================================================================\n",
            "Total params: 17,689,245\n",
            "Trainable params: 17,647,229\n",
            "Non-trainable params: 42,016\n",
            "_________________________________________________________________\n",
            "Traniable layers are as follows\n",
            "efficientnet-b0 : True\n",
            "global_average_pooling2d_3 : True\n",
            "dropout_20 : True\n",
            "dense_24 : True\n",
            "dropout_21 : True\n",
            "dense_25 : True\n",
            "dropout_22 : True\n",
            "dense_26 : True\n"
          ],
          "name": "stdout"
        },
        {
          "output_type": "execute_result",
          "data": {
            "text/plain": [
              "<tensorflow.python.keras.engine.sequential.Sequential at 0x7fd956791828>"
            ]
          },
          "metadata": {
            "tags": []
          },
          "execution_count": 31
        }
      ]
    },
    {
      "cell_type": "code",
      "metadata": {
        "colab": {
          "base_uri": "https://localhost:8080/"
        },
        "id": "MPsssS7No63b",
        "outputId": "c909ebbd-2676-47ef-f1d3-9cf11d85de9a"
      },
      "source": [
        "efficient_netB0(PARAMS)"
      ],
      "execution_count": null,
      "outputs": [
        {
          "output_type": "stream",
          "text": [
            "Model: \"sequential_3\"\n",
            "_________________________________________________________________\n",
            "Layer (type)                 Output Shape              Param #   \n",
            "=================================================================\n",
            "efficientnet-b0 (Functional) (None, 7, 7, 1280)        4049564   \n",
            "_________________________________________________________________\n",
            "flatten_4 (Flatten)          (None, 62720)             0         \n",
            "_________________________________________________________________\n",
            "dropout_17 (Dropout)         (None, 62720)             0         \n",
            "_________________________________________________________________\n",
            "dense_21 (Dense)             (None, 4096)              256905216 \n",
            "_________________________________________________________________\n",
            "dropout_18 (Dropout)         (None, 4096)              0         \n",
            "_________________________________________________________________\n",
            "dense_22 (Dense)             (None, 2048)              8390656   \n",
            "_________________________________________________________________\n",
            "dropout_19 (Dropout)         (None, 2048)              0         \n",
            "_________________________________________________________________\n",
            "dense_23 (Dense)             (None, 1)                 2049      \n",
            "=================================================================\n",
            "Total params: 269,347,485\n",
            "Trainable params: 269,305,469\n",
            "Non-trainable params: 42,016\n",
            "_________________________________________________________________\n",
            "Traniable layers are as follows\n",
            "efficientnet-b0 : True\n",
            "flatten_4 : True\n",
            "dropout_17 : True\n",
            "dense_21 : True\n",
            "dropout_18 : True\n",
            "dense_22 : True\n",
            "dropout_19 : True\n",
            "dense_23 : True\n"
          ],
          "name": "stdout"
        },
        {
          "output_type": "execute_result",
          "data": {
            "text/plain": [
              "<tensorflow.python.keras.engine.sequential.Sequential at 0x7fd956fc0630>"
            ]
          },
          "metadata": {
            "tags": []
          },
          "execution_count": 29
        }
      ]
    },
    {
      "cell_type": "code",
      "metadata": {
        "id": "0pPmg_yoiRwG"
      },
      "source": [
        ""
      ],
      "execution_count": null,
      "outputs": []
    }
  ]
}